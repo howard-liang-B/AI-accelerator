{
 "cells": [
  {
   "cell_type": "markdown",
   "metadata": {},
   "source": [
    "## DepGraph\n",
    "1. 載入模型  \n",
    "   model = YOLO(args.model)  \n",
    "2. 將梯度計算設成 True  \n",
    "   迭代 model.model.named_parameters() 中的每個 name, param，設定 param.required_grad = True\n",
    "3. 查看現在權重的資料  \n",
    "   base_macs, base_nparams = tp.utils.count_ops_and_params(model.model, example_inputs)\n",
    "   * MACs（Multiply-Accumulate Operations）：指模型執行推理時的乘加運算總數。\n",
    "   * Params：模型中所有參數的總數。\n",
    "4. 選擇 tp.importance、tp.pruner\n",
    "5. 設置 tp.pruner 的超參數\n",
    "   * iterative_steps、pruning_ratio、ignored_layer\n",
    "6. 剪枝 (pruner.step())\n"
   ]
  },
  {
   "cell_type": "code",
   "execution_count": 1,
   "metadata": {},
   "outputs": [],
   "source": [
    "import torch\n",
    "import torch_pruning as tp\n",
    "from ultralytics import YOLO                    \n",
    "import multiprocessing  \n",
    "from torchsummary import summary\n",
    "import torch.backends.cudnn as cudnn\n",
    "from ultralytics.nn.modules import Detect, C2f, Conv, Bottleneck"
   ]
  },
  {
   "cell_type": "code",
   "execution_count": 2,
   "metadata": {},
   "outputs": [
    {
     "name": "stdout",
     "output_type": "stream",
     "text": [
      "Quadro RTX 3000 with Max-Q Design\n"
     ]
    }
   ],
   "source": [
    "if torch.cuda.is_available():\n",
    "    cudnn.benchmark = True\n",
    "    device = \"cuda\"\n",
    "    print(torch.cuda.get_device_name())\n",
    "else:\n",
    "    device = \"cpu\"\n",
    "    print(\"Use CPU\")"
   ]
  },
  {
   "cell_type": "code",
   "execution_count": 3,
   "metadata": {},
   "outputs": [
    {
     "name": "stderr",
     "output_type": "stream",
     "text": [
      "c:\\Users\\user\\anaconda3\\envs\\YOLOv8_env\\lib\\site-packages\\ultralytics\\nn\\tasks.py:732: FutureWarning: You are using `torch.load` with `weights_only=False` (the current default value), which uses the default pickle module implicitly. It is possible to construct malicious pickle data which will execute arbitrary code during unpickling (See https://github.com/pytorch/pytorch/blob/main/SECURITY.md#untrusted-models for more details). In a future release, the default value for `weights_only` will be flipped to `True`. This limits the functions that could be executed during unpickling. Arbitrary objects will no longer be allowed to be loaded via this mode unless they are explicitly allowlisted by the user via `torch.serialization.add_safe_globals`. We recommend you start setting `weights_only=True` for any use case where you don't have full control of the loaded file. Please open an issue on GitHub for any issues related to this experimental feature.\n",
      "  ckpt = torch.load(file, map_location=\"cpu\")\n"
     ]
    }
   ],
   "source": [
    "multiprocessing.freeze_support()\n",
    "PATH = r\"my_weights/yolov8_tooth_seg.pt\"\n",
    "model = YOLO(PATH).to(device)"
   ]
  },
  {
   "cell_type": "code",
   "execution_count": 31,
   "metadata": {},
   "outputs": [
    {
     "name": "stdout",
     "output_type": "stream",
     "text": [
      "^C\n"
     ]
    }
   ],
   "source": [
    "!python yolov8_pruning.py --model my_weights/yolov8_tooth_seg.pt --cfg tooth_dataset/default.yaml \\\n",
    "                        --iterative-steps 1 --target-prune-rate 0.1"
   ]
  }
 ],
 "metadata": {
  "kernelspec": {
   "display_name": "YOLOv8_env",
   "language": "python",
   "name": "python3"
  },
  "language_info": {
   "codemirror_mode": {
    "name": "ipython",
    "version": 3
   },
   "file_extension": ".py",
   "mimetype": "text/x-python",
   "name": "python",
   "nbconvert_exporter": "python",
   "pygments_lexer": "ipython3",
   "version": "3.9.19"
  }
 },
 "nbformat": 4,
 "nbformat_minor": 2
}
