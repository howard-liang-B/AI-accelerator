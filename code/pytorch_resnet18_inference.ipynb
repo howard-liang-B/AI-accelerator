{
 "cells": [
  {
   "cell_type": "code",
   "execution_count": 49,
   "metadata": {},
   "outputs": [],
   "source": [
    "import torch\n",
    "import torchvision\n",
    "import torch.backends.cudnn as cudnn\n",
    "import torchvision.transforms as transforms\n",
    "from torch.utils.data import DataLoader, Subset\n",
    "from torchvision import models\n",
    "\n",
    "from time import time\n",
    "from sklearn.metrics import accuracy_score\n"
   ]
  },
  {
   "cell_type": "markdown",
   "metadata": {},
   "source": [
    "## Check CUDA"
   ]
  },
  {
   "cell_type": "code",
   "execution_count": 44,
   "metadata": {},
   "outputs": [
    {
     "name": "stdout",
     "output_type": "stream",
     "text": [
      "Quadro RTX 3000 with Max-Q Design\n"
     ]
    }
   ],
   "source": [
    "if torch.cuda.is_available():\n",
    "    cudnn.benchmark = True\n",
    "    device = \"cuda\"\n",
    "    print(torch.cuda.get_device_name())\n",
    "else:\n",
    "    device = \"cpu\"\n",
    "    print(\"Use CPU\")\n"
   ]
  },
  {
   "cell_type": "markdown",
   "metadata": {},
   "source": [
    "## Load data"
   ]
  },
  {
   "cell_type": "code",
   "execution_count": 45,
   "metadata": {},
   "outputs": [],
   "source": [
    "transform_valid = transforms.Compose([\n",
    "    transforms.ToTensor(),\n",
    "    transforms.Normalize((0.4914, 0.4822, 0.4465), (0.2023, 0.1994, 0.2010))\n",
    "])"
   ]
  },
  {
   "cell_type": "code",
   "execution_count": null,
   "metadata": {},
   "outputs": [
    {
     "name": "stdout",
     "output_type": "stream",
     "text": [
      "Files already downloaded and verified\n",
      "## Validation set has 10000 instances.\n"
     ]
    }
   ],
   "source": [
    "valid_set = torchvision.datasets.CIFAR10(root='./data', train=False, transform=transform_valid, download=True)\n",
    "valid_set = Subset(valid_set, list(range(200, 300)))\n",
    "valid_loader = DataLoader(valid_set, batch_size=5, shuffle=True)\n",
    "print(f'## Validation set has {len(valid_set)} instances.')"
   ]
  },
  {
   "cell_type": "markdown",
   "metadata": {},
   "source": [
    "## Load model"
   ]
  },
  {
   "cell_type": "code",
   "execution_count": 47,
   "metadata": {},
   "outputs": [
    {
     "data": {
      "text/plain": [
       "<All keys matched successfully>"
      ]
     },
     "execution_count": 47,
     "metadata": {},
     "output_type": "execute_result"
    }
   ],
   "source": [
    "PATH = r\"my_weights\\Resnet18_e50_b5_t70_v30.pth\"\n",
    "model = models.resnet18().to(device)\n",
    "model.load_state_dict(torch.load(PATH))"
   ]
  },
  {
   "cell_type": "markdown",
   "metadata": {},
   "source": [
    "## Inference"
   ]
  },
  {
   "cell_type": "code",
   "execution_count": 50,
   "metadata": {},
   "outputs": [
    {
     "name": "stdout",
     "output_type": "stream",
     "text": [
      "## start warm up\n",
      "## finished warm up\n",
      "## Accuracy: 0.0969\n",
      "## Inference 10000 data with 9.37735915184021 sec.\n"
     ]
    }
   ],
   "source": [
    "# warm up \n",
    "print(f'## start warm up')\n",
    "dummy_data = torch.randn(5, 3, 32, 32).to(device)\n",
    "for _ in range(500):\n",
    "    _ = model(dummy_data)\n",
    "print(f'## finished warm up')\n",
    "\n",
    "# calculate accuracy\n",
    "with torch.no_grad():\n",
    "    sum_vacc = 0.0\n",
    "    for i, vdata in enumerate(valid_loader):\n",
    "        vinputs, vlabels = vdata[0].to(device), vdata[1].to(device)\n",
    "        model.eval()\n",
    "        voutputs = model(vinputs)\n",
    "        vacc = accuracy_score(vlabels.cpu(), voutputs.argmax(dim=1).cpu())\n",
    "        sum_vacc += vacc\n",
    "avg_vacc = sum_vacc / (i + 1)\n",
    "\n",
    "# calculate time\n",
    "start_time = time()\n",
    "with torch.no_grad():\n",
    "    for i, vdata in enumerate(valid_loader):\n",
    "        vinputs, vlabels = vdata[0].to(device), vdata[1].to(device)\n",
    "        model.eval()\n",
    "        model(vinputs)\n",
    "\n",
    "end_time = time()\n",
    "\n",
    "print(f\"## Accuracy: {avg_vacc:.4f}\")\n",
    "print(f\"## Inference {len(valid_set)} data with {end_time-start_time} sec.\")"
   ]
  }
 ],
 "metadata": {
  "kernelspec": {
   "display_name": "YOLOv8_env",
   "language": "python",
   "name": "python3"
  },
  "language_info": {
   "codemirror_mode": {
    "name": "ipython",
    "version": 3
   },
   "file_extension": ".py",
   "mimetype": "text/x-python",
   "name": "python",
   "nbconvert_exporter": "python",
   "pygments_lexer": "ipython3",
   "version": "3.9.19"
  }
 },
 "nbformat": 4,
 "nbformat_minor": 2
}
