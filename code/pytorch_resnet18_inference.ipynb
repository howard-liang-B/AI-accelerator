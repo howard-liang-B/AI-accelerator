{
 "cells": [
  {
   "cell_type": "code",
   "execution_count": 1,
   "metadata": {},
   "outputs": [],
   "source": [
    "import torch\n",
    "import torchvision\n",
    "import torch.backends.cudnn as cudnn\n",
    "import torchvision.transforms as transforms\n",
    "from torch.utils.data import DataLoader, Subset\n",
    "from torchvision import models\n",
    "\n",
    "from time import time\n",
    "from sklearn.metrics import accuracy_score\n"
   ]
  },
  {
   "cell_type": "markdown",
   "metadata": {},
   "source": [
    "## Check CUDA"
   ]
  },
  {
   "cell_type": "code",
   "execution_count": 2,
   "metadata": {},
   "outputs": [
    {
     "name": "stdout",
     "output_type": "stream",
     "text": [
      "Quadro RTX 3000 with Max-Q Design\n"
     ]
    }
   ],
   "source": [
    "if torch.cuda.is_available():\n",
    "    cudnn.benchmark = True\n",
    "    device = \"cuda\"\n",
    "    print(torch.cuda.get_device_name())\n",
    "else:\n",
    "    device = \"cpu\"\n",
    "    print(\"Use CPU\")\n"
   ]
  },
  {
   "cell_type": "markdown",
   "metadata": {},
   "source": [
    "## Load data"
   ]
  },
  {
   "cell_type": "code",
   "execution_count": 3,
   "metadata": {},
   "outputs": [],
   "source": [
    "transform_valid = transforms.Compose([\n",
    "    transforms.ToTensor(),\n",
    "    transforms.Normalize((0.4914, 0.4822, 0.4465), (0.2023, 0.1994, 0.2010))\n",
    "])"
   ]
  },
  {
   "cell_type": "code",
   "execution_count": 4,
   "metadata": {},
   "outputs": [
    {
     "name": "stdout",
     "output_type": "stream",
     "text": [
      "Files already downloaded and verified\n",
      "## Validation set has 30 instances.\n"
     ]
    }
   ],
   "source": [
    "BATCH = 5\n",
    "valid_set = torchvision.datasets.CIFAR10(root='./data', train=False, transform=transform_valid, download=True)\n",
    "valid_set = Subset(valid_set, list(range(70, 100)))\n",
    "valid_loader = DataLoader(valid_set, batch_size=BATCH, shuffle=False)\n",
    "print(f'## Validation set has {len(valid_set)} instances.')"
   ]
  },
  {
   "cell_type": "markdown",
   "metadata": {},
   "source": [
    "## Load model"
   ]
  },
  {
   "cell_type": "code",
   "execution_count": 13,
   "metadata": {},
   "outputs": [
    {
     "name": "stderr",
     "output_type": "stream",
     "text": [
      "C:\\Users\\user\\AppData\\Local\\Temp\\ipykernel_8520\\481644392.py:3: FutureWarning: You are using `torch.load` with `weights_only=False` (the current default value), which uses the default pickle module implicitly. It is possible to construct malicious pickle data which will execute arbitrary code during unpickling (See https://github.com/pytorch/pytorch/blob/main/SECURITY.md#untrusted-models for more details). In a future release, the default value for `weights_only` will be flipped to `True`. This limits the functions that could be executed during unpickling. Arbitrary objects will no longer be allowed to be loaded via this mode unless they are explicitly allowlisted by the user via `torch.serialization.add_safe_globals`. We recommend you start setting `weights_only=True` for any use case where you don't have full control of the loaded file. Please open an issue on GitHub for any issues related to this experimental feature.\n",
      "  model.load_state_dict(torch.load(PATH))\n"
     ]
    },
    {
     "data": {
      "text/plain": [
       "<All keys matched successfully>"
      ]
     },
     "execution_count": 13,
     "metadata": {},
     "output_type": "execute_result"
    }
   ],
   "source": [
    "PATH = r\"my_weights\\Resnet18_e25_b5_t70_v30(global L1 sp=0.2).pth\"\n",
    "model = models.resnet18().to(device)\n",
    "model.load_state_dict(torch.load(PATH))"
   ]
  },
  {
   "cell_type": "markdown",
   "metadata": {},
   "source": [
    "## Inference"
   ]
  },
  {
   "cell_type": "code",
   "execution_count": 14,
   "metadata": {},
   "outputs": [
    {
     "name": "stdout",
     "output_type": "stream",
     "text": [
      "## start warm up\n",
      "## finished warm up\n",
      "## Accuracy: 0.3000\n",
      "## Inference 30 data with 0.026927947998046875 sec.\n"
     ]
    }
   ],
   "source": [
    "model.eval()\n",
    "\n",
    "# warm up \n",
    "print(f'## start warm up')\n",
    "dummy_data = torch.randn(5, 3, 32, 32).to(device)\n",
    "for _ in range(500):\n",
    "    _ = model(dummy_data)\n",
    "print(f'## finished warm up')\n",
    "\n",
    "# calculate accuracy\n",
    "with torch.no_grad():\n",
    "    total_vcorrect = 0.0\n",
    "    total_vsamples = 0.0\n",
    "    for i, vdata in enumerate(valid_loader):\n",
    "        vinputs, vlabels = vdata[0].to(device), vdata[1].to(device)\n",
    "        voutputs = model(vinputs)\n",
    "        total_vcorrect += (voutputs.argmax(dim=1) == vlabels).sum().item()\n",
    "        total_vsamples += vlabels.size(0)\n",
    "avg_vacc = total_vcorrect / total_vsamples\n",
    "\n",
    "# calculate time\n",
    "with torch.no_grad():\n",
    "    start_time = time()\n",
    "    for i, vdata in enumerate(valid_loader):\n",
    "        vinputs, vlabels = vdata[0].to(device), vdata[1].to(device)\n",
    "        model(vinputs)\n",
    "    end_time = time()\n",
    "\n",
    "print(f\"## Accuracy: {avg_vacc:.4f}\")\n",
    "print(f\"## Inference {len(valid_set)} data with {end_time-start_time} sec.\")"
   ]
  }
 ],
 "metadata": {
  "kernelspec": {
   "display_name": "YOLOv8_env",
   "language": "python",
   "name": "python3"
  },
  "language_info": {
   "codemirror_mode": {
    "name": "ipython",
    "version": 3
   },
   "file_extension": ".py",
   "mimetype": "text/x-python",
   "name": "python",
   "nbconvert_exporter": "python",
   "pygments_lexer": "ipython3",
   "version": "3.9.19"
  }
 },
 "nbformat": 4,
 "nbformat_minor": 2
}
